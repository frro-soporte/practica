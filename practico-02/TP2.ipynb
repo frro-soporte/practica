{
 "cells": [
  {
   "cell_type": "markdown",
   "metadata": {},
   "source": [
    "# 1)"
   ]
  },
  {
   "cell_type": "code",
   "execution_count": 4,
   "metadata": {},
   "outputs": [],
   "source": [
    "class Rectangle:\n",
    "    def __init__(self,x,h):\n",
    "        self.x = x\n",
    "        self.h = h\n",
    "        \n",
    "    def getArea(self):\n",
    "        return (self.x*self.h)/2"
   ]
  },
  {
   "cell_type": "code",
   "execution_count": 6,
   "metadata": {},
   "outputs": [
    {
     "data": {
      "text/plain": [
       "4.0"
      ]
     },
     "execution_count": 6,
     "metadata": {},
     "output_type": "execute_result"
    }
   ],
   "source": [
    "x = Rectangle(2,4)\n",
    "x.getArea()"
   ]
  },
  {
   "cell_type": "markdown",
   "metadata": {},
   "source": [
    "# 2)"
   ]
  },
  {
   "cell_type": "code",
   "execution_count": 18,
   "metadata": {},
   "outputs": [],
   "source": [
    "class Circle:\n",
    "    def __init__(self, r):\n",
    "        self.r = r\n",
    "    \n",
    "    def getArea(self):\n",
    "            return 3.14*(self.r**2) \n",
    "        \n",
    "    def getPerimeter(self):\n",
    "            return 3.14*self.r"
   ]
  },
  {
   "cell_type": "code",
   "execution_count": 22,
   "metadata": {},
   "outputs": [
    {
     "data": {
      "text/plain": [
       "12.56"
      ]
     },
     "execution_count": 22,
     "metadata": {},
     "output_type": "execute_result"
    }
   ],
   "source": [
    "c = Circle(2)\n",
    "c.getArea()"
   ]
  },
  {
   "cell_type": "code",
   "execution_count": 23,
   "metadata": {},
   "outputs": [
    {
     "data": {
      "text/plain": [
       "6.28"
      ]
     },
     "execution_count": 23,
     "metadata": {},
     "output_type": "execute_result"
    }
   ],
   "source": [
    "c.getPerimeter()"
   ]
  },
  {
   "cell_type": "markdown",
   "metadata": {},
   "source": [
    "# 3)"
   ]
  },
  {
   "cell_type": "code",
   "execution_count": 6,
   "metadata": {},
   "outputs": [],
   "source": [
    "import numpy as np"
   ]
  },
  {
   "cell_type": "code",
   "execution_count": 7,
   "metadata": {},
   "outputs": [],
   "source": [
    "class Person:\n",
    "    def __init__(self,name,age,sex,weight,height):\n",
    "        self.name = name\n",
    "        self.age = age\n",
    "        self.sex = sex\n",
    "        self.weight = weight\n",
    "        self.height = height\n",
    "        \n",
    "        self.isOverage()\n",
    "        self.printData()\n",
    "        self.generateID()\n",
    "    \n",
    "    def isOverage(self):\n",
    "        if self.age > 18:\n",
    "            return True\n",
    "        else: return False\n",
    "        \n",
    "    def printData(self):\n",
    "        print(self.name)\n",
    "        print(self.age)\n",
    "        print(self.sex)\n",
    "        print(self.weight)\n",
    "        print(self.height)\n",
    "        \n",
    "    def generateID(self):\n",
    "        self.id = np.random.randint(0,10,8)\n",
    "        print(self.id)"
   ]
  },
  {
   "cell_type": "code",
   "execution_count": 8,
   "metadata": {},
   "outputs": [
    {
     "name": "stdout",
     "output_type": "stream",
     "text": [
      "Gastón\n",
      "20\n",
      "M\n",
      "80\n",
      "1.88\n",
      "[1 1 3 4 0 2 1 6]\n"
     ]
    }
   ],
   "source": [
    "i = Person('Gastón',20,'M','80',1.88)"
   ]
  },
  {
   "cell_type": "markdown",
   "metadata": {},
   "source": [
    "# 4)"
   ]
  },
  {
   "cell_type": "code",
   "execution_count": 9,
   "metadata": {},
   "outputs": [],
   "source": [
    "import datetime"
   ]
  },
  {
   "cell_type": "code",
   "execution_count": 62,
   "metadata": {},
   "outputs": [],
   "source": [
    "class Student(Person):\n",
    "    def __init__(self,name,age,sex,weight,height,courseName,entryYear,subjectCount,subjectPassed):\n",
    "        super().__init__(name,age,sex,weight,height)\n",
    "        self.courseName = courseName\n",
    "        self.entryYear = entryYear\n",
    "        self.subjectCount = subjectCount\n",
    "        self.subjectPassed = subjectPassed\n",
    "        \n",
    "    def coursePercent(self):\n",
    "        return self.subjectPassed / self.subjectCount\n",
    "        \n",
    "    def ageAtEntry(self):\n",
    "        return self.age - ((datetime.datetime.now()).year - self.entryYear)\n",
    "    \n",
    "    def toDict(self):\n",
    "        return {\n",
    "            'name': self.name,\n",
    "            'course': self.courseName\n",
    "        }\n",
    "        "
   ]
  },
  {
   "cell_type": "code",
   "execution_count": 11,
   "metadata": {
    "collapsed": true
   },
   "outputs": [
    {
     "name": "stdout",
     "output_type": "stream",
     "text": [
      "Gastón\n",
      "20\n",
      "M\n",
      "80\n",
      "1.88\n",
      "[6 2 7 0 2 8 7 9]\n"
     ]
    }
   ],
   "source": [
    "i = Student('Gastón',20,'M','80',1.88,'Ingeniería en Sistemas',2017,41,25)"
   ]
  },
  {
   "cell_type": "code",
   "execution_count": 12,
   "metadata": {},
   "outputs": [
    {
     "data": {
      "text/plain": [
       "17"
      ]
     },
     "execution_count": 12,
     "metadata": {},
     "output_type": "execute_result"
    }
   ],
   "source": [
    "i.coursePercent()\n",
    "i.ageAtEntry()"
   ]
  },
  {
   "cell_type": "markdown",
   "metadata": {},
   "source": [
    "# 5)"
   ]
  },
  {
   "cell_type": "code",
   "execution_count": 13,
   "metadata": {},
   "outputs": [],
   "source": [
    "import pandas as pd"
   ]
  },
  {
   "cell_type": "code",
   "execution_count": 63,
   "metadata": {
    "collapsed": true
   },
   "outputs": [
    {
     "name": "stdout",
     "output_type": "stream",
     "text": [
      "Gastón\n",
      "20\n",
      "M\n",
      "80\n",
      "1.88\n",
      "[8 7 4 7 1 3 5 5]\n",
      "Martín\n",
      "21\n",
      "M\n",
      "85\n",
      "1.78\n",
      "[5 4 8 6 8 3 1 8]\n",
      "Lucía\n",
      "19\n",
      "M\n",
      "85\n",
      "1.78\n",
      "[2 7 0 5 2 3 0 2]\n",
      "Marta\n",
      "25\n",
      "M\n",
      "85\n",
      "1.78\n",
      "[4 7 7 2 0 5 8 2]\n"
     ]
    }
   ],
   "source": [
    "s1 = Student('Gastón',20,'M','80',1.88,'Ingeniería en Sistemas',2017,41,25)\n",
    "s2 = Student('Martín',21,'M','85',1.78,'Ingeniería en Sistemas',2017,41,25)\n",
    "s3 = Student('Lucía',19,'M','85',1.78,'Ingeniería Civil',2017,35,15)\n",
    "s4 = Student('Marta',25,'M','85',1.78,'Ingeniería Química',2017,34,31)\n",
    "students = [s1,s2,s3,s4]"
   ]
  },
  {
   "cell_type": "code",
   "execution_count": 69,
   "metadata": {},
   "outputs": [
    {
     "data": {
      "text/html": [
       "<div>\n",
       "<style scoped>\n",
       "    .dataframe tbody tr th:only-of-type {\n",
       "        vertical-align: middle;\n",
       "    }\n",
       "\n",
       "    .dataframe tbody tr th {\n",
       "        vertical-align: top;\n",
       "    }\n",
       "\n",
       "    .dataframe thead th {\n",
       "        text-align: right;\n",
       "    }\n",
       "</style>\n",
       "<table border=\"1\" class=\"dataframe\">\n",
       "  <thead>\n",
       "    <tr style=\"text-align: right;\">\n",
       "      <th></th>\n",
       "      <th>name</th>\n",
       "      <th>course</th>\n",
       "    </tr>\n",
       "  </thead>\n",
       "  <tbody>\n",
       "    <tr>\n",
       "      <th>0</th>\n",
       "      <td>Gastón</td>\n",
       "      <td>Ingeniería en Sistemas</td>\n",
       "    </tr>\n",
       "    <tr>\n",
       "      <th>1</th>\n",
       "      <td>Martín</td>\n",
       "      <td>Ingeniería en Sistemas</td>\n",
       "    </tr>\n",
       "    <tr>\n",
       "      <th>2</th>\n",
       "      <td>Lucía</td>\n",
       "      <td>Ingeniería Civil</td>\n",
       "    </tr>\n",
       "    <tr>\n",
       "      <th>3</th>\n",
       "      <td>Marta</td>\n",
       "      <td>Ingeniería Química</td>\n",
       "    </tr>\n",
       "  </tbody>\n",
       "</table>\n",
       "</div>"
      ],
      "text/plain": [
       "     name                  course\n",
       "0  Gastón  Ingeniería en Sistemas\n",
       "1  Martín  Ingeniería en Sistemas\n",
       "2   Lucía        Ingeniería Civil\n",
       "3   Marta      Ingeniería Química"
      ]
     },
     "execution_count": 69,
     "metadata": {},
     "output_type": "execute_result"
    }
   ],
   "source": [
    "df = pd.DataFrame.from_records([s.toDict() for s in students])\n",
    "df"
   ]
  },
  {
   "cell_type": "code",
   "execution_count": 76,
   "metadata": {},
   "outputs": [
    {
     "data": {
      "text/html": [
       "<div>\n",
       "<style scoped>\n",
       "    .dataframe tbody tr th:only-of-type {\n",
       "        vertical-align: middle;\n",
       "    }\n",
       "\n",
       "    .dataframe tbody tr th {\n",
       "        vertical-align: top;\n",
       "    }\n",
       "\n",
       "    .dataframe thead th {\n",
       "        text-align: right;\n",
       "    }\n",
       "</style>\n",
       "<table border=\"1\" class=\"dataframe\">\n",
       "  <thead>\n",
       "    <tr style=\"text-align: right;\">\n",
       "      <th></th>\n",
       "      <th>name</th>\n",
       "    </tr>\n",
       "    <tr>\n",
       "      <th>course</th>\n",
       "      <th></th>\n",
       "    </tr>\n",
       "  </thead>\n",
       "  <tbody>\n",
       "    <tr>\n",
       "      <th>Ingeniería Civil</th>\n",
       "      <td>1</td>\n",
       "    </tr>\n",
       "    <tr>\n",
       "      <th>Ingeniería Química</th>\n",
       "      <td>1</td>\n",
       "    </tr>\n",
       "    <tr>\n",
       "      <th>Ingeniería en Sistemas</th>\n",
       "      <td>2</td>\n",
       "    </tr>\n",
       "  </tbody>\n",
       "</table>\n",
       "</div>"
      ],
      "text/plain": [
       "                        name\n",
       "course                      \n",
       "Ingeniería Civil           1\n",
       "Ingeniería Química         1\n",
       "Ingeniería en Sistemas     2"
      ]
     },
     "execution_count": 76,
     "metadata": {},
     "output_type": "execute_result"
    }
   ],
   "source": [
    "sCount = (df.groupby('course')).count()\n",
    "sCount"
   ]
  },
  {
   "cell_type": "markdown",
   "metadata": {},
   "source": [
    "# 6)"
   ]
  },
  {
   "cell_type": "code",
   "execution_count": 7,
   "metadata": {},
   "outputs": [],
   "source": [
    "import datetime"
   ]
  },
  {
   "cell_type": "code",
   "execution_count": 20,
   "metadata": {},
   "outputs": [],
   "source": [
    "class Person:\n",
    "    def __init__(self,fNac):\n",
    "        self.fNac = fNac\n",
    "        \n",
    "    def getAge(self):\n",
    "        return ((datetime.datetime.now() - self.fNac).days) /365"
   ]
  },
  {
   "cell_type": "code",
   "execution_count": 21,
   "metadata": {},
   "outputs": [],
   "source": [
    "p = Person(datetime.datetime(1999,4,3))"
   ]
  },
  {
   "cell_type": "code",
   "execution_count": 22,
   "metadata": {},
   "outputs": [
    {
     "data": {
      "text/plain": [
       "20.98904109589041"
      ]
     },
     "execution_count": 22,
     "metadata": {},
     "output_type": "execute_result"
    }
   ],
   "source": [
    "p.getAge()"
   ]
  },
  {
   "cell_type": "code",
   "execution_count": null,
   "metadata": {},
   "outputs": [],
   "source": []
  }
 ],
 "metadata": {
  "kernelspec": {
   "display_name": "Python 3",
   "language": "python",
   "name": "python3"
  },
  "language_info": {
   "codemirror_mode": {
    "name": "ipython",
    "version": 3
   },
   "file_extension": ".py",
   "mimetype": "text/x-python",
   "name": "python",
   "nbconvert_exporter": "python",
   "pygments_lexer": "ipython3",
   "version": "3.7.6"
  }
 },
 "nbformat": 4,
 "nbformat_minor": 4
}
